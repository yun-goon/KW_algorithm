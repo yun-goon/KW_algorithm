{
 "cells": [
  {
   "cell_type": "code",
   "execution_count": 1,
   "metadata": {},
   "outputs": [],
   "source": [
    "# 이진 트리 삽입과 트리 삭제\n",
    "import random\n",
    "from timeit import default_timer as timer\n",
    "\n",
    "class Node(object):\n",
    "    def __init__(self, key, parent=None):\n",
    "        self.key = key\n",
    "        self.left = None\n",
    "        self.right = None\n",
    "        self.parent = parent\n",
    "\n",
    "def delete(node):\n",
    "    global root\n",
    "    if node == root:\n",
    "        root = delete_node(node)\n",
    "    elif node == node.parent.left:\n",
    "        node.parent.left = delete_node(node)\n",
    "    else:\n",
    "        node.parent.right = delete_node(node)\n",
    "        \n",
    "\n",
    "def delete_node(r):\n",
    "    if (r.left == None) and (r.right == None):\n",
    "        return None\n",
    "    elif (r.left != None) and (r.right == None):\n",
    "        return r.left\n",
    "    elif (r.right != None) and (r.left == None):\n",
    "        return r.right\n",
    "    else:\n",
    "        s = r.right\n",
    "        while s.left != None:\n",
    "            parent = s\n",
    "            s = s.left\n",
    "        r.key = s.key\n",
    "        if s==r.right:\n",
    "            r.right = s. right\n",
    "        else:\n",
    "            parent.left = s.right\n",
    "        return r\n",
    "\n",
    "def insert(node, key, parent = None):\n",
    "    if node is None:\n",
    "        node = Node(key, parent)\n",
    "    elif key < node.key:\n",
    "        node.left = insert(node.left, key, node)\n",
    "    else:\n",
    "        node.right = insert(node.right, key, node)\n",
    "    return node\n",
    "\n",
    "def search(node, key):\n",
    "    if node is None or node.key == key: return node\n",
    "    if key < node.key: return search(node.left, key)\n",
    "    return search(node.right, key)\n"
   ]
  },
  {
   "cell_type": "code",
   "execution_count": 2,
   "metadata": {},
   "outputs": [
    {
     "name": "stdout",
     "output_type": "stream",
     "text": [
      "0.00010040000051958486\n",
      "value 45 found 45\n",
      "True\n"
     ]
    }
   ],
   "source": [
    "x = random.sample(range(1,100), 20)\n",
    "\n",
    "\n",
    "root = None\n",
    "for i in x:\n",
    "    root = insert(root, i)\n",
    "\n",
    "value = x[7]\n",
    "start = timer()\n",
    "found = search(root, value)\n",
    "print(timer() - start)\n",
    "\n",
    "if found is not None:\n",
    "    print('value', value, 'found', found.key)\n",
    "    print(True if found.key == value else False)\n"
   ]
  },
  {
   "attachments": {},
   "cell_type": "markdown",
   "metadata": {},
   "source": [
    "graphviz 설치  \n",
    "https://graphviz.org/download/ 에서 설치 후  \n",
    "pip install graphviz 후  \n",
    "환경변수 설정 "
   ]
  },
  {
   "cell_type": "code",
   "execution_count": 3,
   "metadata": {},
   "outputs": [
    {
     "data": {
      "text/plain": [
       "'tree.pdf'"
      ]
     },
     "execution_count": 3,
     "metadata": {},
     "output_type": "execute_result"
    }
   ],
   "source": [
    "from graphviz import Digraph\n",
    "\n",
    "def draw_tree_graphviz(root):\n",
    "    dot = Digraph()\n",
    "    _draw_tree_graphviz(dot, None, root)\n",
    "    return dot\n",
    "\n",
    "def _draw_tree_graphviz(dot, parent, node):\n",
    "    if node is None:\n",
    "        return\n",
    "    dot.node(str(node.key))\n",
    "    if parent is not None:\n",
    "        dot.edge(str(parent.key), str(node.key))\n",
    "    if node.left is not None:\n",
    "        _draw_tree_graphviz(dot, node, node.left)\n",
    "    if node.right is not None:\n",
    "        _draw_tree_graphviz(dot, node, node.right)\n",
    "\n",
    "# graphviz로 트리 그리기\n",
    "dot = draw_tree_graphviz(root)\n",
    "dot.render('tree', view=True)"
   ]
  },
  {
   "cell_type": "code",
   "execution_count": 4,
   "metadata": {},
   "outputs": [
    {
     "name": "stdout",
     "output_type": "stream",
     "text": [
      "4.3599999116850086e-05\n",
      "value 76 found 76\n",
      "True\n"
     ]
    }
   ],
   "source": [
    "value = 76\n",
    "start = timer()\n",
    "found = search(root, value)\n",
    "print(timer() - start)\n",
    "\n",
    "if found is not None:\n",
    "    print('value', value, 'found', found.key)\n",
    "    print(True if found.key == value else False)"
   ]
  },
  {
   "cell_type": "code",
   "execution_count": 5,
   "metadata": {},
   "outputs": [
    {
     "data": {
      "text/plain": [
       "'tree.pdf'"
      ]
     },
     "execution_count": 5,
     "metadata": {},
     "output_type": "execute_result"
    }
   ],
   "source": [
    "# 노드 삭제해보기\n",
    "\n",
    "value = 76\n",
    "found = search(root, value)\n",
    "delete(found)\n",
    "\n",
    "dot = draw_tree_graphviz(root)\n",
    "dot.render('tree', view=True)"
   ]
  },
  {
   "attachments": {},
   "cell_type": "markdown",
   "metadata": {},
   "source": [
    "asciitree 설치  \n",
    "pip install asciitree"
   ]
  },
  {
   "cell_type": "code",
   "execution_count": 108,
   "metadata": {},
   "outputs": [
    {
     "name": "stdout",
     "output_type": "stream",
     "text": [
      "[85]\n",
      " ├─ [56]\n",
      " │  ├─ [28]\n",
      " │  │  ├─ [23]\n",
      " │  │  │  └─ [1]\n",
      " │  │  │     └─ [4]\n",
      " │  │  └─ [55]\n",
      " │  │     └─ [31]\n",
      " │  │        └─ [30]\n",
      " │  └─ [80]\n",
      " │     └─ [61]\n",
      " │        ├─ [57]\n",
      " │        └─ [63]\n",
      " │           └─ [67]\n",
      " └─ [93]\n",
      "    ├─ [92]\n",
      "    └─ [95]\n"
     ]
    }
   ],
   "source": [
    "# asciitree로 트리 그리기\n",
    "from asciitree.drawing import BoxStyle, BOX_LIGHT\n",
    "from asciitree import LeftAligned\n",
    "from collections import OrderedDict\n",
    "\n",
    "class NodeRenderer:\n",
    "    def __init__(self):\n",
    "        self.box_style = BoxStyle(gfx=BOX_LIGHT, horiz_len=1)\n",
    "\n",
    "    def __call__(self, node):\n",
    "        return f\"[{node.key}]\"\n",
    "\n",
    "def draw_tree_asciitree(root):\n",
    "    if root is None:\n",
    "        return \"\"\n",
    "    tree = OrderedDict()\n",
    "    node_renderer = NodeRenderer()  # NodeRenderer 인스턴스 생성\n",
    "    _draw_tree_asciitree(tree, root, node_renderer)  # node_renderer 인자로 전달\n",
    "    return LeftAligned(draw=node_renderer.box_style)(tree)\n",
    "\n",
    "def _draw_tree_asciitree(tree, node, node_renderer):\n",
    "    if node is None:\n",
    "        return\n",
    "    tree[node_renderer(node)] = subtree = OrderedDict()\n",
    "    _draw_tree_asciitree(subtree, node.left, node_renderer)\n",
    "    _draw_tree_asciitree(subtree, node.right, node_renderer)\n",
    "\n",
    "\n",
    "print(draw_tree_asciitree(root))"
   ]
  }
 ],
 "metadata": {
  "kernelspec": {
   "display_name": "Python 3",
   "language": "python",
   "name": "python3"
  },
  "language_info": {
   "codemirror_mode": {
    "name": "ipython",
    "version": 3
   },
   "file_extension": ".py",
   "mimetype": "text/x-python",
   "name": "python",
   "nbconvert_exporter": "python",
   "pygments_lexer": "ipython3",
   "version": "3.11.2"
  },
  "orig_nbformat": 4
 },
 "nbformat": 4,
 "nbformat_minor": 2
}
